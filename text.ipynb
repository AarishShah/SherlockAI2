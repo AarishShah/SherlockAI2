{
 "cells": [
  {
   "cell_type": "code",
   "execution_count": 2,
   "metadata": {},
   "outputs": [
    {
     "name": "stdout",
     "output_type": "stream",
     "text": [
      "{'delayTime': 6160, 'executionTime': 509, 'id': 'sync-85748168-f9bc-49f4-a379-fbadae12fff6-e1', 'output': [{'choices': [{'tokens': [\"I'm doing well, thanks for asking. I'm a large language model,\"]}], 'usage': {'input': 42, 'output': 16}}], 'status': 'COMPLETED', 'workerId': '28ztf2px5zr6ac'}\n"
     ]
    }
   ],
   "source": [
    "import requests\n",
    "\n",
    "url = \"https://api.runpod.ai/v2/vllm-4g5z0oq4saugi6/runsync\"\n",
    "headers = {\n",
    "    \"Authorization\": \"rpa_ZV3AYAG8FMMQUV8U0X6MEMR08X6N0WH2ZN2C2ZAP18fsra\",\n",
    "    \"Content-Type\": \"application/json\"\n",
    "}\n",
    "payload = {\n",
    "    \"input\": {\n",
    "        \"messages\": [{\"role\": \"user\", \"content\": \"Hello, how are you?\"}]\n",
    "    }\n",
    "}\n",
    "\n",
    "response = requests.post(url, headers=headers, json=payload)\n",
    "print(response.json())\n"
   ]
  }
 ],
 "metadata": {
  "kernelspec": {
   "display_name": "Python 3",
   "language": "python",
   "name": "python3"
  },
  "language_info": {
   "codemirror_mode": {
    "name": "ipython",
    "version": 3
   },
   "file_extension": ".py",
   "mimetype": "text/x-python",
   "name": "python",
   "nbconvert_exporter": "python",
   "pygments_lexer": "ipython3",
   "version": "3.10.0"
  }
 },
 "nbformat": 4,
 "nbformat_minor": 2
}
